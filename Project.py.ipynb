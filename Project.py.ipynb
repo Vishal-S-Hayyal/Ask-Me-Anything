{
 "cells": [
  {
   "cell_type": "code",
   "execution_count": 17,
   "id": "5bb990fa",
   "metadata": {},
   "outputs": [
    {
     "name": "stdout",
     "output_type": "stream",
     "text": [
      "Requirement already satisfied: openai in c:\\users\\visha\\appdata\\local\\programs\\python\\python311\\lib\\site-packages (0.27.4)\n",
      "Requirement already satisfied: requests>=2.20 in c:\\users\\visha\\appdata\\local\\programs\\python\\python311\\lib\\site-packages (from openai) (2.28.2)\n",
      "Requirement already satisfied: tqdm in c:\\users\\visha\\appdata\\local\\programs\\python\\python311\\lib\\site-packages (from openai) (4.65.0)\n",
      "Requirement already satisfied: aiohttp in c:\\users\\visha\\appdata\\local\\programs\\python\\python311\\lib\\site-packages (from openai) (3.8.4)\n",
      "Requirement already satisfied: charset-normalizer<4,>=2 in c:\\users\\visha\\appdata\\local\\programs\\python\\python311\\lib\\site-packages (from requests>=2.20->openai) (3.1.0)\n",
      "Requirement already satisfied: idna<4,>=2.5 in c:\\users\\visha\\appdata\\local\\programs\\python\\python311\\lib\\site-packages (from requests>=2.20->openai) (3.4)\n",
      "Requirement already satisfied: urllib3<1.27,>=1.21.1 in c:\\users\\visha\\appdata\\local\\programs\\python\\python311\\lib\\site-packages (from requests>=2.20->openai) (1.26.15)\n",
      "Requirement already satisfied: certifi>=2017.4.17 in c:\\users\\visha\\appdata\\local\\programs\\python\\python311\\lib\\site-packages (from requests>=2.20->openai) (2022.12.7)\n",
      "Requirement already satisfied: attrs>=17.3.0 in c:\\users\\visha\\appdata\\local\\programs\\python\\python311\\lib\\site-packages (from aiohttp->openai) (22.2.0)\n",
      "Requirement already satisfied: multidict<7.0,>=4.5 in c:\\users\\visha\\appdata\\local\\programs\\python\\python311\\lib\\site-packages (from aiohttp->openai) (6.0.4)\n",
      "Requirement already satisfied: async-timeout<5.0,>=4.0.0a3 in c:\\users\\visha\\appdata\\local\\programs\\python\\python311\\lib\\site-packages (from aiohttp->openai) (4.0.2)\n",
      "Requirement already satisfied: yarl<2.0,>=1.0 in c:\\users\\visha\\appdata\\local\\programs\\python\\python311\\lib\\site-packages (from aiohttp->openai) (1.9.1)\n",
      "Requirement already satisfied: frozenlist>=1.1.1 in c:\\users\\visha\\appdata\\local\\programs\\python\\python311\\lib\\site-packages (from aiohttp->openai) (1.3.3)\n",
      "Requirement already satisfied: aiosignal>=1.1.2 in c:\\users\\visha\\appdata\\local\\programs\\python\\python311\\lib\\site-packages (from aiohttp->openai) (1.3.1)\n",
      "Requirement already satisfied: colorama in c:\\users\\visha\\appdata\\local\\programs\\python\\python311\\lib\\site-packages (from tqdm->openai) (0.4.6)\n"
     ]
    },
    {
     "name": "stderr",
     "output_type": "stream",
     "text": [
      "\n",
      "[notice] A new release of pip is available: 23.0.1 -> 23.1.2\n",
      "[notice] To update, run: python.exe -m pip install --upgrade pip\n"
     ]
    }
   ],
   "source": [
    "!pip install openai\n",
    "import os\n",
    "import openai\n",
    "import tkinter as tk\n",
    "from tkinter import messagebox\n",
    "import sqlite3\n"
   ]
  },
  {
   "cell_type": "code",
   "execution_count": 16,
   "id": "e7a9a8e2",
   "metadata": {},
   "outputs": [
    {
     "name": "stdout",
     "output_type": "stream",
     "text": [
      "Table created successfully\n"
     ]
    }
   ],
   "source": [
    "conn = sqlite3.connect('test4.db')\n",
    "c = conn.cursor()\n",
    "\n",
    "def create_table():\n",
    "    c.execute('''CREATE TABLE chat(prompt VCHAR(10000000000) ,response VCHAR(10000000000000));''')\n",
    "    print(\"Table created successfully\");\n",
    "\n",
    "create_table()\n"
   ]
  },
  {
   "cell_type": "code",
   "execution_count": 19,
   "id": "77244040",
   "metadata": {},
   "outputs": [],
   "source": [
    "# Define a function to be called when the button is pressed\n",
    "def generate_output():\n",
    "    prompt = input_entry.get()\n",
    "    openai.api_key = 'open ai api key'\n",
    "    response = openai.Completion.create(\n",
    "        engine=\"text-davinci-002\",\n",
    "        prompt=prompt,\n",
    "        max_tokens=1024,\n",
    "        n=1,\n",
    "        stop=\".\",\n",
    "        temperature=0.5,\n",
    "    )\n",
    "\n",
    "    # Extract the response text\n",
    "    response_text = response.choices[0].text\n",
    "    c.execute('''INSERT or REPLACE INTO chat(prompt,response)  VALUES(?,?)''',(prompt,response_text))\n",
    "    conn.commit()\n",
    "    msg = messagebox.showinfo(\"tk\",\"Insertion successful\")\n",
    "    command = \"SELECT * from chat\"\n",
    "    c.execute(command)\n",
    "    all_data = c.fetchall()\n",
    "    # Create a string variable to store the output text\n",
    "    output_text = \"\"\n",
    "    \n",
    "    # Iterate over each row and concatenate the prompt and response\n",
    "    for row in all_data:\n",
    "        output_text += f\"{row[0]}\\n\\n{row[1]}\\n\\n{'-'*50}\\n\\n\"\n",
    "        \n",
    "    output_label.config(text=output_text)\n",
    "    \n",
    "    \n",
    "def show1(conn, c):\n",
    "    command = \"SELECT * from chat\"\n",
    "    c.execute(command)\n",
    "    all_data = c.fetchall()\n",
    "    for i in all_data:\n",
    "        print(i)\n",
    "    print('completed')\n",
    "        \n",
    "def delete_data():\n",
    "    c.execute(\"DELETE FROM chat\")\n",
    "    conn.commit()\n",
    "    \n",
    "\n",
    "# Create a tkinter window\n",
    "import tkinter as tk\n",
    "root = tk.Tk()\n",
    "root.title(\"Ask_Me_Anything\")\n",
    "\n",
    "# Create an entry widget for the user's input\n",
    "input_label = tk.Label(root,text=\"Ask any question\",font=(\"Arial\", 20))\n",
    "input_label.pack()\n",
    "\n",
    "input_entry = tk.Entry(root,width=100,font=(\"arial\",15))\n",
    "input_entry.pack()\n",
    "\n",
    "# Create a button to generate output when pressed\n",
    "generate_button = tk.Button(root, text=\"Generate Output\", command=generate_output,font=(\"Arial\", 15),background=\"red\")\n",
    "generate_button.pack()\n",
    "\n",
    "# Create a label to display the generated output\n",
    "output_label = tk.Label(root, text=\"\",font=(\"Arial\", 10), background=\"yellow\")\n",
    "output_label.pack()\n",
    "\n",
    "\n",
    "delete_button = tk.Button(root, text=\"Delete data\", command=delete_data,font=(\"Arial\", 15),background=\"red\")\n",
    "delete_button.pack()\n",
    "\n",
    "# Start the tkinter event loop\n",
    "root.mainloop()\n"
   ]
  },
  {
   "cell_type": "code",
   "execution_count": null,
   "id": "cc8a8e12",
   "metadata": {},
   "outputs": [],
   "source": []
  }
 ],
 "metadata": {
  "kernelspec": {
   "display_name": "Python 3 (ipykernel)",
   "language": "python",
   "name": "python3"
  },
  "language_info": {
   "codemirror_mode": {
    "name": "ipython",
    "version": 3
   },
   "file_extension": ".py",
   "mimetype": "text/x-python",
   "name": "python",
   "nbconvert_exporter": "python",
   "pygments_lexer": "ipython3",
   "version": "3.11.2"
  }
 },
 "nbformat": 4,
 "nbformat_minor": 5
}
